{
 "cells": [
  {
   "cell_type": "markdown",
   "metadata": {},
   "source": [
    "# Fraud Detection\n",
    "\n",
    "## Task\n",
    "\n",
    "Build a logistic regression model using Scikit-learn to predict fraudulent transactions by training it on [Credit Card Fraud Detection](https://www.kaggle.com/c/ieee-fraud-detection/data) dataset from Kaggle. Before you train the model, create at least 1 visualization of the data."
   ]
  },
  {
   "cell_type": "code",
   "execution_count": 81,
   "metadata": {},
   "outputs": [],
   "source": [
    "import numpy as np\n",
    "import pandas as pd\n",
    "import matplotlib.pyplot as plt\n",
    "from sklearn.model_selection import train_test_split\n",
    "from sklearn.preprocessing import StandardScaler # Scaling by standardisation\n",
    "from sklearn.linear_model import LogisticRegression\n",
    "from sklearn.metrics import confusion_matrix\n",
    "from sklearn.metrics import recall_score\n",
    "from sklearn.metrics import classification_report"
   ]
  },
  {
   "cell_type": "markdown",
   "metadata": {},
   "source": [
    "## Explore the Dataset / Visualize"
   ]
  },
  {
   "cell_type": "code",
   "execution_count": 82,
   "metadata": {},
   "outputs": [
    {
     "data": {
      "text/html": [
       "<div>\n",
       "<style scoped>\n",
       "    .dataframe tbody tr th:only-of-type {\n",
       "        vertical-align: middle;\n",
       "    }\n",
       "\n",
       "    .dataframe tbody tr th {\n",
       "        vertical-align: top;\n",
       "    }\n",
       "\n",
       "    .dataframe thead th {\n",
       "        text-align: right;\n",
       "    }\n",
       "</style>\n",
       "<table border=\"1\" class=\"dataframe\">\n",
       "  <thead>\n",
       "    <tr style=\"text-align: right;\">\n",
       "      <th></th>\n",
       "      <th>Time</th>\n",
       "      <th>V1</th>\n",
       "      <th>V2</th>\n",
       "      <th>V3</th>\n",
       "      <th>V4</th>\n",
       "      <th>V5</th>\n",
       "      <th>V6</th>\n",
       "      <th>V7</th>\n",
       "      <th>V8</th>\n",
       "      <th>V9</th>\n",
       "      <th>...</th>\n",
       "      <th>V21</th>\n",
       "      <th>V22</th>\n",
       "      <th>V23</th>\n",
       "      <th>V24</th>\n",
       "      <th>V25</th>\n",
       "      <th>V26</th>\n",
       "      <th>V27</th>\n",
       "      <th>V28</th>\n",
       "      <th>Amount</th>\n",
       "      <th>Class</th>\n",
       "    </tr>\n",
       "  </thead>\n",
       "  <tbody>\n",
       "    <tr>\n",
       "      <td>0</td>\n",
       "      <td>127695.0</td>\n",
       "      <td>-1.180302</td>\n",
       "      <td>0.997052</td>\n",
       "      <td>-1.141980</td>\n",
       "      <td>1.122934</td>\n",
       "      <td>0.870430</td>\n",
       "      <td>0.496341</td>\n",
       "      <td>2.626909</td>\n",
       "      <td>-0.275357</td>\n",
       "      <td>-1.251222</td>\n",
       "      <td>...</td>\n",
       "      <td>-0.116098</td>\n",
       "      <td>-0.213810</td>\n",
       "      <td>-0.495616</td>\n",
       "      <td>-0.008486</td>\n",
       "      <td>1.185834</td>\n",
       "      <td>-0.207036</td>\n",
       "      <td>0.126568</td>\n",
       "      <td>-0.016534</td>\n",
       "      <td>362.00</td>\n",
       "      <td>0</td>\n",
       "    </tr>\n",
       "    <tr>\n",
       "      <td>1</td>\n",
       "      <td>74522.0</td>\n",
       "      <td>-0.491090</td>\n",
       "      <td>0.736967</td>\n",
       "      <td>1.121518</td>\n",
       "      <td>1.855768</td>\n",
       "      <td>2.192105</td>\n",
       "      <td>4.720293</td>\n",
       "      <td>-0.499471</td>\n",
       "      <td>1.195404</td>\n",
       "      <td>-1.064379</td>\n",
       "      <td>...</td>\n",
       "      <td>0.093564</td>\n",
       "      <td>0.267335</td>\n",
       "      <td>-0.344519</td>\n",
       "      <td>1.041548</td>\n",
       "      <td>0.398812</td>\n",
       "      <td>0.448862</td>\n",
       "      <td>0.111847</td>\n",
       "      <td>0.087620</td>\n",
       "      <td>18.15</td>\n",
       "      <td>0</td>\n",
       "    </tr>\n",
       "    <tr>\n",
       "      <td>2</td>\n",
       "      <td>141751.0</td>\n",
       "      <td>-1.081088</td>\n",
       "      <td>-0.891385</td>\n",
       "      <td>1.263885</td>\n",
       "      <td>-0.395564</td>\n",
       "      <td>1.579365</td>\n",
       "      <td>-1.016444</td>\n",
       "      <td>-0.654525</td>\n",
       "      <td>0.249166</td>\n",
       "      <td>0.485191</td>\n",
       "      <td>...</td>\n",
       "      <td>-0.003331</td>\n",
       "      <td>-0.447941</td>\n",
       "      <td>0.267298</td>\n",
       "      <td>0.545437</td>\n",
       "      <td>-0.103051</td>\n",
       "      <td>-0.631727</td>\n",
       "      <td>-0.021950</td>\n",
       "      <td>0.028339</td>\n",
       "      <td>1.18</td>\n",
       "      <td>0</td>\n",
       "    </tr>\n",
       "    <tr>\n",
       "      <td>3</td>\n",
       "      <td>131485.0</td>\n",
       "      <td>2.057686</td>\n",
       "      <td>-0.038430</td>\n",
       "      <td>-1.058048</td>\n",
       "      <td>0.417849</td>\n",
       "      <td>-0.127807</td>\n",
       "      <td>-1.212282</td>\n",
       "      <td>0.204981</td>\n",
       "      <td>-0.350565</td>\n",
       "      <td>0.502264</td>\n",
       "      <td>...</td>\n",
       "      <td>-0.284453</td>\n",
       "      <td>-0.677820</td>\n",
       "      <td>0.336365</td>\n",
       "      <td>0.053365</td>\n",
       "      <td>-0.291787</td>\n",
       "      <td>0.194302</td>\n",
       "      <td>-0.069472</td>\n",
       "      <td>-0.058925</td>\n",
       "      <td>3.96</td>\n",
       "      <td>0</td>\n",
       "    </tr>\n",
       "    <tr>\n",
       "      <td>4</td>\n",
       "      <td>38305.0</td>\n",
       "      <td>0.658722</td>\n",
       "      <td>-2.234003</td>\n",
       "      <td>1.721964</td>\n",
       "      <td>0.101310</td>\n",
       "      <td>-2.625252</td>\n",
       "      <td>0.696838</td>\n",
       "      <td>-1.609055</td>\n",
       "      <td>0.428602</td>\n",
       "      <td>0.870870</td>\n",
       "      <td>...</td>\n",
       "      <td>0.496141</td>\n",
       "      <td>1.149756</td>\n",
       "      <td>-0.402166</td>\n",
       "      <td>0.628406</td>\n",
       "      <td>0.346473</td>\n",
       "      <td>0.039347</td>\n",
       "      <td>0.042984</td>\n",
       "      <td>0.071146</td>\n",
       "      <td>298.00</td>\n",
       "      <td>0</td>\n",
       "    </tr>\n",
       "  </tbody>\n",
       "</table>\n",
       "<p>5 rows × 31 columns</p>\n",
       "</div>"
      ],
      "text/plain": [
       "       Time        V1        V2        V3        V4        V5        V6  \\\n",
       "0  127695.0 -1.180302  0.997052 -1.141980  1.122934  0.870430  0.496341   \n",
       "1   74522.0 -0.491090  0.736967  1.121518  1.855768  2.192105  4.720293   \n",
       "2  141751.0 -1.081088 -0.891385  1.263885 -0.395564  1.579365 -1.016444   \n",
       "3  131485.0  2.057686 -0.038430 -1.058048  0.417849 -0.127807 -1.212282   \n",
       "4   38305.0  0.658722 -2.234003  1.721964  0.101310 -2.625252  0.696838   \n",
       "\n",
       "         V7        V8        V9  ...       V21       V22       V23       V24  \\\n",
       "0  2.626909 -0.275357 -1.251222  ... -0.116098 -0.213810 -0.495616 -0.008486   \n",
       "1 -0.499471  1.195404 -1.064379  ...  0.093564  0.267335 -0.344519  1.041548   \n",
       "2 -0.654525  0.249166  0.485191  ... -0.003331 -0.447941  0.267298  0.545437   \n",
       "3  0.204981 -0.350565  0.502264  ... -0.284453 -0.677820  0.336365  0.053365   \n",
       "4 -1.609055  0.428602  0.870870  ...  0.496141  1.149756 -0.402166  0.628406   \n",
       "\n",
       "        V25       V26       V27       V28  Amount  Class  \n",
       "0  1.185834 -0.207036  0.126568 -0.016534  362.00      0  \n",
       "1  0.398812  0.448862  0.111847  0.087620   18.15      0  \n",
       "2 -0.103051 -0.631727 -0.021950  0.028339    1.18      0  \n",
       "3 -0.291787  0.194302 -0.069472 -0.058925    3.96      0  \n",
       "4  0.346473  0.039347  0.042984  0.071146  298.00      0  \n",
       "\n",
       "[5 rows x 31 columns]"
      ]
     },
     "execution_count": 82,
     "metadata": {},
     "output_type": "execute_result"
    }
   ],
   "source": [
    "df = pd.read_csv('creditcard.csv', low_memory=False)\n",
    "df = df.sample(frac=1).reset_index(drop=True)\n",
    "df.head()"
   ]
  },
  {
   "cell_type": "markdown",
   "metadata": {},
   "source": [
    "#### Check if Any Missing Values in the Dataset"
   ]
  },
  {
   "cell_type": "code",
   "execution_count": 83,
   "metadata": {},
   "outputs": [
    {
     "data": {
      "text/plain": [
       "Time      0\n",
       "V1        0\n",
       "V2        0\n",
       "V3        0\n",
       "V4        0\n",
       "V5        0\n",
       "V6        0\n",
       "V7        0\n",
       "V8        0\n",
       "V9        0\n",
       "V10       0\n",
       "V11       0\n",
       "V12       0\n",
       "V13       0\n",
       "V14       0\n",
       "V15       0\n",
       "V16       0\n",
       "V17       0\n",
       "V18       0\n",
       "V19       0\n",
       "V20       0\n",
       "V21       0\n",
       "V22       0\n",
       "V23       0\n",
       "V24       0\n",
       "V25       0\n",
       "V26       0\n",
       "V27       0\n",
       "V28       0\n",
       "Amount    0\n",
       "Class     0\n",
       "dtype: int64"
      ]
     },
     "execution_count": 83,
     "metadata": {},
     "output_type": "execute_result"
    }
   ],
   "source": [
    "df.isnull().sum()"
   ]
  },
  {
   "cell_type": "markdown",
   "metadata": {},
   "source": [
    "No missing values were detected."
   ]
  },
  {
   "cell_type": "code",
   "execution_count": 84,
   "metadata": {},
   "outputs": [
    {
     "name": "stdout",
     "output_type": "stream",
     "text": [
      "Number of non-fraudulent operations: 284315\n",
      "Number of fraudulent operations: 492\n",
      "The average amount of fradulent transactions is 122.21132113821143\n",
      "The maximum amount of fradulent transactions is 2125.87\n"
     ]
    }
   ],
   "source": [
    "fraud = df.loc[df['Class'] == 1]\n",
    "non_fraud = df.loc[df['Class'] == 0]\n",
    "print(f'Number of non-fraudulent operations: {len(non_fraud)}')\n",
    "print(f'Number of fraudulent operations: {len(fraud)}')\n",
    "print(f\"The average amount of fradulent transactions is {fraud['Amount'].mean()}\")\n",
    "print(f\"The maximum amount of fradulent transactions is {fraud['Amount'].max()}\") "
   ]
  },
  {
   "cell_type": "markdown",
   "metadata": {},
   "source": [
    "## Visualize the Dataset"
   ]
  },
  {
   "cell_type": "code",
   "execution_count": 85,
   "metadata": {},
   "outputs": [
    {
     "data": {
      "image/png": "[encoded data removed]",
      "text/plain": [
       "<Figure size 432x288 with 1 Axes>"
      ]
     },
     "metadata": {
      "needs_background": "light"
     },
     "output_type": "display_data"
    }
   ],
   "source": [
    "# Plot the Amount vs Class distribution\n",
    "plt.scatter(df['Amount'],df['Class'])\n",
    "plt.title('Amount vs Class distribution')\n",
    "plt.xlabel('Amount (currency)')\n",
    "plt.ylabel('Class: (1)-fraud, (0)-legitimate')\n",
    "plt.show()"
   ]
  },
  {
   "cell_type": "markdown",
   "metadata": {},
   "source": [
    "## Decide Which Features Are Important\n",
    "\n",
    "In this analysis we will not use the \"Time\" feature. Our matrix \"X\" of independent variables will consist of the features \"V1\" through \"V28\" and also include the \"Amount\" feature. The dependent variable vector \"y\" will consist the values of the \"Class\" column of the dataset."
   ]
  },
  {
   "cell_type": "code",
   "execution_count": 86,
   "metadata": {},
   "outputs": [],
   "source": [
    "X = df.iloc[:, 1:-1].values\n",
    "y = df.iloc[:, -1].values"
   ]
  },
  {
   "cell_type": "markdown",
   "metadata": {},
   "source": [
    "## Spliting the dataset into the Training set (85%) and Test set (15%)\n"
   ]
  },
  {
   "cell_type": "code",
   "execution_count": 87,
   "metadata": {},
   "outputs": [],
   "source": [
    "X_train, X_test, y_train, y_test = train_test_split(X, y, test_size = 0.15, random_state = 0)"
   ]
  },
  {
   "cell_type": "markdown",
   "metadata": {},
   "source": [
    "## Feature Scaling"
   ]
  },
  {
   "cell_type": "code",
   "execution_count": 88,
   "metadata": {},
   "outputs": [],
   "source": [
    "sc_X = StandardScaler()\n",
    "X_train = sc_X.fit_transform(X_train) # Need to fit the object into our feature set, then transform feature set\n",
    "X_test = sc_X.transform(X_test) # Only need to transform, because the object is already fitted (prev. line), otherwise different scales."
   ]
  },
  {
   "cell_type": "markdown",
   "metadata": {},
   "source": [
    "## Perform Machine Learning"
   ]
  },
  {
   "cell_type": "code",
   "execution_count": 89,
   "metadata": {},
   "outputs": [
    {
     "name": "stderr",
     "output_type": "stream",
     "text": [
      "/anaconda3/lib/python3.7/site-packages/sklearn/linear_model/logistic.py:432: FutureWarning: Default solver will be changed to 'lbfgs' in 0.22. Specify a solver to silence this warning.\n",
      "  FutureWarning)\n"
     ]
    },
    {
     "data": {
      "text/plain": [
       "LogisticRegression(C=1.0, class_weight=None, dual=False, fit_intercept=True,\n",
       "                   intercept_scaling=1, l1_ratio=None, max_iter=100,\n",
       "                   multi_class='warn', n_jobs=None, penalty='l2',\n",
       "                   random_state=0, solver='warn', tol=0.0001, verbose=0,\n",
       "                   warm_start=False)"
      ]
     },
     "execution_count": 89,
     "metadata": {},
     "output_type": "execute_result"
    }
   ],
   "source": [
    "# Fitting Logistic Regression to the Training set\n",
    "classifier = LogisticRegression(random_state = 0)  # using the same random_state\n",
    "classifier.fit(X_train, y_train)"
   ]
  },
  {
   "cell_type": "markdown",
   "metadata": {},
   "source": [
    "## Test the Model On the Testing Set"
   ]
  },
  {
   "cell_type": "code",
   "execution_count": 90,
   "metadata": {},
   "outputs": [],
   "source": [
    "# Predicting the Test set results\n",
    "y_pred = classifier.predict(X_test)"
   ]
  },
  {
   "cell_type": "markdown",
   "metadata": {},
   "source": [
    "#### Evaluate Performance of the Model"
   ]
  },
  {
   "cell_type": "code",
   "execution_count": 91,
   "metadata": {},
   "outputs": [
    {
     "name": "stdout",
     "output_type": "stream",
     "text": [
      "[[42642     5]\n",
      " [   25    50]]\n"
     ]
    }
   ],
   "source": [
    "cm = confusion_matrix(y_test, y_pred)\n",
    "print(cm)"
   ]
  },
  {
   "cell_type": "code",
   "execution_count": 92,
   "metadata": {
    "scrolled": true
   },
   "outputs": [
    {
     "name": "stdout",
     "output_type": "stream",
     "text": [
      "Number of correct predictions: 42692\n",
      "Number of incorrect predictions: 30\n"
     ]
    }
   ],
   "source": [
    "print(f'Number of correct predictions: {cm[0,0] + cm[1,1]}')\n",
    "print(f'Number of incorrect predictions: {cm[0,1] + cm[1,0]}')"
   ]
  },
  {
   "cell_type": "markdown",
   "metadata": {},
   "source": [
    "Very good!\n",
    "The performance score of the model on the Test Set:"
   ]
  },
  {
   "cell_type": "code",
   "execution_count": 93,
   "metadata": {},
   "outputs": [
    {
     "name": "stdout",
     "output_type": "stream",
     "text": [
      "0.9992977856841908\n"
     ]
    }
   ],
   "source": [
    "print(classifier.score(X_test,y_test))"
   ]
  },
  {
   "cell_type": "markdown",
   "metadata": {},
   "source": [
    "But if we remember the main purpose of this model - to detect fradulent credit card transactions, we should rather be interested in how well the model can detect fradulent transactions specifically. For that we will use the __recall score__ - the ability of the classifier to find all the positive (fradulent) samples: "
   ]
  },
  {
   "cell_type": "code",
   "execution_count": 94,
   "metadata": {},
   "outputs": [
    {
     "name": "stdout",
     "output_type": "stream",
     "text": [
      "0.6666666666666666\n"
     ]
    }
   ],
   "source": [
    "print(recall_score(y_test, y_pred))"
   ]
  },
  {
   "cell_type": "markdown",
   "metadata": {},
   "source": [
    "This is not a bad number, but in order for the model to be used in production the __recall score__ must be significally improved.\n",
    "\n",
    "Finally the full Classification Report with other performance scores of the model"
   ]
  },
  {
   "cell_type": "code",
   "execution_count": 95,
   "metadata": {},
   "outputs": [
    {
     "name": "stdout",
     "output_type": "stream",
     "text": [
      "              precision    recall  f1-score   support\n",
      "\n",
      "           0       1.00      1.00      1.00     42647\n",
      "           1       0.91      0.67      0.77        75\n",
      "\n",
      "    accuracy                           1.00     42722\n",
      "   macro avg       0.95      0.83      0.88     42722\n",
      "weighted avg       1.00      1.00      1.00     42722\n",
      "\n"
     ]
    }
   ],
   "source": [
    "class_report = classification_report(y_test, y_pred)\n",
    "print(class_report)"
   ]
  }
 ],
 "metadata": {
  "kernelspec": {
   "display_name": "Python 3",
   "language": "python",
   "name": "python3"
  },
  "language_info": {
   "codemirror_mode": {
    "name": "ipython",
    "version": 3
   },
   "file_extension": ".py",
   "mimetype": "text/x-python",
   "name": "python",
   "nbconvert_exporter": "python",
   "pygments_lexer": "ipython3",
   "version": "3.7.4"
  }
 },
 "nbformat": 4,
 "nbformat_minor": 2
}
